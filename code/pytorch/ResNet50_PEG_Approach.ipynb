{
  "cells": [
    {
      "cell_type": "code",
      "execution_count": 1,
      "metadata": {
        "id": "RbtQsQ2PRo1g"
      },
      "outputs": [],
      "source": [
        "from torchvision.models import resnet50\n",
        "from torchvision.datasets import CIFAR10\n",
        "from torchvision import transforms\n",
        "from copy import deepcopy\n",
        "from math import inf\n",
        "from google.colab import files\n",
        "from google.colab import drive\n",
        "import numpy as np\n",
        "import torch\n",
        "import matplotlib.pyplot as plt\n",
        "import random\n",
        "import gc"
      ]
    },
    {
      "cell_type": "code",
      "source": [
        "class Settings:\n",
        "  @classmethod\n",
        "  def engine(cls):\n",
        "    # Called only to prevent the PyTorch to split the dataset in a different\n",
        "    # manner each time.\n",
        "    torch.manual_seed(42)\n",
        "\n",
        "  # Number of samples chosen uniformly at random from validation (test) set\n",
        "  # to purturb the model further on. Originally, it was set to 128 in all experiments (K=128).\n",
        "  random_ensemble_samples = 128\n",
        "  assert random_ensemble_samples == 128\n",
        "\n",
        "  # Number of models in the final ensemble (S = [15, 30])\n",
        "  ensemble_count = 30\n",
        "  assert ensemble_count in [15, 30]\n",
        "\n",
        "  validation_percentage = 1 / 5\n",
        "  assert validation_percentage <= 1 / 2\n",
        "\n",
        "  # ResNet50 classifier train epoch count\n",
        "  training_epochs     = 25\n",
        "\n",
        "  #ResNet50 whole train epoch count\n",
        "  cnn_training_epochs = 5\n",
        "\n",
        "  learning_rate = 0.01\n",
        "  batch_size = 2048\n",
        "\n",
        "Settings.engine()"
      ],
      "metadata": {
        "id": "Sqzhb7X6nmfC",
        "colab": {
          "base_uri": "https://localhost:8080/"
        },
        "outputId": "0a680d1c-5afc-4248-8262-590c872a01ae"
      },
      "execution_count": 2,
      "outputs": [
        {
          "output_type": "stream",
          "name": "stdout",
          "text": [
            "Drive already mounted at /content/drive; to attempt to forcibly remount, call drive.mount(\"/content/drive\", force_remount=True).\n"
          ]
        }
      ]
    },
    {
      "cell_type": "code",
      "source": [
        "device = torch.device(\"cuda\" if torch.cuda.is_available() else \"cpu\")"
      ],
      "metadata": {
        "id": "MSlZt02XK9ce"
      },
      "execution_count": 3,
      "outputs": []
    },
    {
      "cell_type": "code",
      "execution_count": 3,
      "metadata": {
        "id": "d4XEVHF1R5K7",
        "colab": {
          "base_uri": "https://localhost:8080/"
        },
        "outputId": "fdf5ab75-8de2-48c8-c1a3-a3253f3aeb54"
      },
      "outputs": [
        {
          "output_type": "stream",
          "name": "stderr",
          "text": [
            "/usr/local/lib/python3.10/dist-packages/torchvision/models/_utils.py:208: UserWarning: The parameter 'pretrained' is deprecated since 0.13 and may be removed in the future, please use 'weights' instead.\n",
            "  warnings.warn(\n",
            "/usr/local/lib/python3.10/dist-packages/torchvision/models/_utils.py:223: UserWarning: Arguments other than a weight enum or `None` for 'weights' are deprecated since 0.13 and may be removed in the future. The current behavior is equivalent to passing `weights=ResNet50_Weights.IMAGENET1K_V1`. You can also use `weights=ResNet50_Weights.DEFAULT` to get the most up-to-date weights.\n",
            "  warnings.warn(msg)\n",
            "Downloading: \"https://download.pytorch.org/models/resnet50-0676ba61.pth\" to /root/.cache/torch/hub/checkpoints/resnet50-0676ba61.pth\n",
            "100%|██████████| 97.8M/97.8M [00:00<00:00, 143MB/s]\n"
          ]
        }
      ],
      "source": [
        "base_model = resnet50(pretrained=True)\n",
        "\n",
        "base_model.fc = torch.nn.Linear(\n",
        "  base_model.fc.in_features,\n",
        "  10\n",
        ")\n",
        "\n",
        "# Freeze convolutional layers for fine-tunning, however when making the ensemble we\n",
        "# send them back in business.\n",
        "for param in base_model.parameters():\n",
        "  param.requires_grad = False\n",
        "\n",
        "# Allow the classifier to be trained\n",
        "for param in base_model.fc.parameters():\n",
        "  param.requires_grad = True\n",
        "\n",
        "base_model = base_model.to(device)"
      ]
    },
    {
      "cell_type": "code",
      "execution_count": 4,
      "metadata": {
        "colab": {
          "base_uri": "https://localhost:8080/"
        },
        "id": "pq1v3m18SWlJ",
        "outputId": "9e4cc516-53ca-4c93-b7f6-c577b19094f5"
      },
      "outputs": [
        {
          "output_type": "stream",
          "name": "stdout",
          "text": [
            "Downloading https://www.cs.toronto.edu/~kriz/cifar-10-python.tar.gz to ./data/cifar-10-python.tar.gz\n"
          ]
        },
        {
          "output_type": "stream",
          "name": "stderr",
          "text": [
            "100%|██████████| 170498071/170498071 [00:12<00:00, 13228180.97it/s]\n"
          ]
        },
        {
          "output_type": "stream",
          "name": "stdout",
          "text": [
            "Extracting ./data/cifar-10-python.tar.gz to ./data\n",
            "Files already downloaded and verified\n"
          ]
        },
        {
          "output_type": "execute_result",
          "data": {
            "text/plain": [
              "(50000, 8000, 2000)"
            ]
          },
          "metadata": {},
          "execution_count": 4
        }
      ],
      "source": [
        "transform = transforms.Compose([\n",
        "    transforms.Resize((224, 224)),\n",
        "    transforms.ToTensor(),\n",
        "    transforms.Normalize(\n",
        "        (0.5, 0.5, 0.5),\n",
        "        (0.5, 0.5, 0.5),\n",
        "    )\n",
        "])\n",
        "\n",
        "train_dataset = CIFAR10(\n",
        "    root=\"./data\",\n",
        "    train=True,\n",
        "    download=True,\n",
        "    transform=transform\n",
        ")\n",
        "\n",
        "test_dataset = CIFAR10(\n",
        "    root=\"./data\",\n",
        "    train=False,\n",
        "    download=True,\n",
        "    transform=transform\n",
        ")\n",
        "\n",
        "test_dataset_size = len(test_dataset)\n",
        "validation_dataset_size = int(test_dataset_size * Settings.validation_percentage)\n",
        "test_dataset_size = test_dataset_size - validation_dataset_size\n",
        "\n",
        "validation_dataset, test_dataset = torch.utils.data.random_split(test_dataset, [validation_dataset_size, test_dataset_size])\n",
        "\n",
        "len(train_dataset), len(test_dataset), len(validation_dataset)"
      ]
    },
    {
      "cell_type": "code",
      "source": [
        "# Make sure the very same image is shown after running the cell\n",
        "# since we need to have consistent test, train, and validation\n",
        "# datasets.\n",
        "\n",
        "image = test_dataset[100][0]\n",
        "image = image / 2 + 0.5\n",
        "image = np.transpose(image, (1, 2, 0))\n",
        "\n",
        "plt.imshow(image)\n",
        "plt.show()"
      ],
      "metadata": {
        "colab": {
          "base_uri": "https://localhost:8080/",
          "height": 434
        },
        "id": "8am9g_Xgo5GQ",
        "outputId": "388b0026-74fe-4443-a1b3-53720e445230"
      },
      "execution_count": 5,
      "outputs": [
        {
          "output_type": "display_data",
          "data": {
            "text/plain": [
              "<Figure size 640x480 with 1 Axes>"
            ],
            "image/png": "[encoded data removed]"
          },
          "metadata": {}
        }
      ]
    },
    {
      "cell_type": "markdown",
      "source": [
        "# Fine-Tunning ResNet50 On CIFAR10"
      ],
      "metadata": {
        "id": "6u5uTtDrlrx7"
      }
    },
    {
      "cell_type": "code",
      "source": [
        "train_dataloader = torch.utils.data.DataLoader(train_dataset, batch_size=Settings.batch_size, shuffle=True)\n",
        "test_dataloader  = torch.utils.data.DataLoader(test_dataset, batch_size=Settings.batch_size, shuffle=False)"
      ],
      "metadata": {
        "id": "BkvnlL0uMR-0"
      },
      "execution_count": 6,
      "outputs": []
    },
    {
      "cell_type": "code",
      "source": [
        "criterion = torch.nn.CrossEntropyLoss()\n",
        "optimizer = torch.optim.Adam(\n",
        "    base_model.parameters(),\n",
        "    lr=Settings.learning_rate\n",
        ")\n",
        "scheduler = torch.optim.lr_scheduler.StepLR(optimizer, gamma=0.1, step_size=10)\n",
        "\n",
        "best_model = None\n",
        "best_accuracy = -inf"
      ],
      "metadata": {
        "id": "kzsKUrtqiumJ",
        "colab": {
          "base_uri": "https://localhost:8080/",
          "height": 211
        },
        "outputId": "43262902-6bbf-417c-b2cf-bcedcb035eb0"
      },
      "execution_count": 22,
      "outputs": [
        {
          "output_type": "error",
          "ename": "NameError",
          "evalue": "name 'base_model' is not defined",
          "traceback": [
            "\u001b[0;31m---------------------------------------------------------------------------\u001b[0m",
            "\u001b[0;31mNameError\u001b[0m                                 Traceback (most recent call last)",
            "\u001b[0;32m<ipython-input-22-3d7a4f22a254>\u001b[0m in \u001b[0;36m<cell line: 5>\u001b[0;34m()\u001b[0m\n\u001b[1;32m      4\u001b[0m \u001b[0mcriterion\u001b[0m \u001b[0;34m=\u001b[0m \u001b[0mtorch\u001b[0m\u001b[0;34m.\u001b[0m\u001b[0mnn\u001b[0m\u001b[0;34m.\u001b[0m\u001b[0mCrossEntropyLoss\u001b[0m\u001b[0;34m(\u001b[0m\u001b[0;34m)\u001b[0m\u001b[0;34m\u001b[0m\u001b[0;34m\u001b[0m\u001b[0m\n\u001b[1;32m      5\u001b[0m optimizer = torch.optim.Adam(\n\u001b[0;32m----> 6\u001b[0;31m     \u001b[0mbase_model\u001b[0m\u001b[0;34m.\u001b[0m\u001b[0mparameters\u001b[0m\u001b[0;34m(\u001b[0m\u001b[0;34m)\u001b[0m\u001b[0;34m,\u001b[0m\u001b[0;34m\u001b[0m\u001b[0;34m\u001b[0m\u001b[0m\n\u001b[0m\u001b[1;32m      7\u001b[0m     \u001b[0mlr\u001b[0m\u001b[0;34m=\u001b[0m\u001b[0mSettings\u001b[0m\u001b[0;34m.\u001b[0m\u001b[0mlearning_rate\u001b[0m\u001b[0;34m\u001b[0m\u001b[0;34m\u001b[0m\u001b[0m\n\u001b[1;32m      8\u001b[0m )\n",
            "\u001b[0;31mNameError\u001b[0m: name 'base_model' is not defined"
          ]
        }
      ]
    },
    {
      "cell_type": "code",
      "source": [
        "for epoch in range(Settings.training_epochs):\n",
        "  base_model.train()\n",
        "  training_loss = 0.0\n",
        "\n",
        "  for images, labels in train_dataloader:\n",
        "    images, labels = images.to(device), labels.to(device)\n",
        "    optimizer.zero_grad()\n",
        "    predictions = base_model(images)\n",
        "    loss = criterion(predictions, labels)\n",
        "    loss.backward()\n",
        "    optimizer.step()\n",
        "    training_loss += loss.item()\n",
        "\n",
        "  # Evaluate the model at the end of each epoch\n",
        "\n",
        "  base_model.eval()\n",
        "  test_loss = 0\n",
        "  correct = 0\n",
        "  with torch.inference_mode():\n",
        "    for images, labels in test_dataloader:\n",
        "      images, labels = images.to(device), labels.to(device)\n",
        "      test_predictions = base_model(images)\n",
        "      batch_loss = criterion(test_predictions, labels)\n",
        "      test_loss += batch_loss.item()\n",
        "      _, test_predictions = torch.max(test_predictions, 1)\n",
        "      correct += (test_predictions == labels).float().sum()\n",
        "\n",
        "  accuracy = 100 * correct / len(test_dataset)\n",
        "\n",
        "  # Save the best model based on the accuracy on the test images\n",
        "\n",
        "  if accuracy > best_accuracy:\n",
        "    best_model = deepcopy(base_model)\n",
        "    best_accuracy = accuracy\n",
        "\n",
        "  scheduler.step()\n",
        "  print(f\"Epoch number {epoch + 1}: loss={training_loss} test_loss={test_loss} accuracy={accuracy} lr={scheduler.get_last_lr()}.\")\n",
        "\n",
        "filename = \"resnet50-CIFAR10-classifier-only-25epochs-lr0.0001.model\"\n",
        "torch.save(best_model.state_dict(), f\"./{filename}\")\n",
        "files.download(f\"./{filename}\")"
      ],
      "metadata": {
        "colab": {
          "base_uri": "https://localhost:8080/",
          "height": 451
        },
        "id": "GiZ9ICDbhXaD",
        "outputId": "8025f8ad-c271-4299-c381-ac95059e8c4c"
      },
      "execution_count": 8,
      "outputs": [
        {
          "output_type": "stream",
          "name": "stdout",
          "text": [
            "Epoch number 1: loss=133.51228964328766 test_loss=4.343904972076416 accuracy=63.92500305175781 lr=[0.01].\n",
            "Epoch number 2: loss=25.55934715270996 test_loss=2.8001819252967834 accuracy=76.60000610351562 lr=[0.01].\n",
            "Epoch number 3: loss=16.473407328128815 test_loss=2.451463282108307 accuracy=78.88750457763672 lr=[0.01].\n",
            "Epoch number 4: loss=14.909898340702057 test_loss=2.3284724354743958 accuracy=79.42500305175781 lr=[0.01].\n",
            "Epoch number 5: loss=14.170224726200104 test_loss=2.292621433734894 accuracy=79.6500015258789 lr=[0.01].\n",
            "Epoch number 6: loss=13.801246643066406 test_loss=2.2342451214790344 accuracy=80.66250610351562 lr=[0.01].\n",
            "Epoch number 7: loss=13.530014038085938 test_loss=2.2199811339378357 accuracy=80.61250305175781 lr=[0.01].\n",
            "Epoch number 8: loss=13.313354283571243 test_loss=2.1899651288986206 accuracy=81.22500610351562 lr=[0.01].\n",
            "Epoch number 9: loss=13.103562593460083 test_loss=2.136619210243225 accuracy=81.53750610351562 lr=[0.01].\n",
            "Epoch number 10: loss=12.805623859167099 test_loss=2.118295669555664 accuracy=81.87500762939453 lr=[0.001].\n",
            "Epoch number 11: loss=12.485599666833878 test_loss=2.102099120616913 accuracy=82.01250457763672 lr=[0.001].\n",
            "Epoch number 12: loss=12.458680242300034 test_loss=2.0969386100769043 accuracy=81.98750305175781 lr=[0.001].\n",
            "Epoch number 13: loss=12.438184678554535 test_loss=2.0948855876922607 accuracy=82.05000305175781 lr=[0.001].\n",
            "Epoch number 14: loss=12.399450600147247 test_loss=2.0935452580451965 accuracy=82.00000762939453 lr=[0.001].\n",
            "Epoch number 15: loss=12.378885239362717 test_loss=2.0893951058387756 accuracy=82.0250015258789 lr=[0.001].\n",
            "Epoch number 16: loss=12.383730977773666 test_loss=2.085955500602722 accuracy=82.11250305175781 lr=[0.001].\n",
            "Epoch number 17: loss=12.344364047050476 test_loss=2.0860260725021362 accuracy=82.17500305175781 lr=[0.001].\n",
            "Epoch number 18: loss=12.338205009698868 test_loss=2.086011588573456 accuracy=82.13750457763672 lr=[0.001].\n",
            "Epoch number 19: loss=12.339801579713821 test_loss=2.0860052704811096 accuracy=82.0875015258789 lr=[0.001].\n",
            "Epoch number 20: loss=12.27602505683899 test_loss=2.0767669677734375 accuracy=82.0250015258789 lr=[0.0001].\n",
            "Epoch number 21: loss=12.278957277536392 test_loss=2.073792338371277 accuracy=82.17500305175781 lr=[0.0001].\n",
            "Epoch number 22: loss=12.237956821918488 test_loss=2.0736767649650574 accuracy=82.17500305175781 lr=[0.0001].\n",
            "Epoch number 23: loss=12.250316590070724 test_loss=2.0729177594184875 accuracy=82.13750457763672 lr=[0.0001].\n",
            "Epoch number 24: loss=12.222790390253067 test_loss=2.0720075964927673 accuracy=82.18750762939453 lr=[0.0001].\n",
            "Epoch number 25: loss=12.240922838449478 test_loss=2.0731027126312256 accuracy=82.1500015258789 lr=[0.0001].\n"
          ]
        },
        {
          "output_type": "display_data",
          "data": {
            "text/plain": [
              "<IPython.core.display.Javascript object>"
            ],
            "application/javascript": [
              "\n",
              "    async function download(id, filename, size) {\n",
              "      if (!google.colab.kernel.accessAllowed) {\n",
              "        return;\n",
              "      }\n",
              "      const div = document.createElement('div');\n",
              "      const label = document.createElement('label');\n",
              "      label.textContent = `Downloading \"${filename}\": `;\n",
              "      div.appendChild(label);\n",
              "      const progress = document.createElement('progress');\n",
              "      progress.max = size;\n",
              "      div.appendChild(progress);\n",
              "      document.body.appendChild(div);\n",
              "\n",
              "      const buffers = [];\n",
              "      let downloaded = 0;\n",
              "\n",
              "      const channel = await google.colab.kernel.comms.open(id);\n",
              "      // Send a message to notify the kernel that we're ready.\n",
              "      channel.send({})\n",
              "\n",
              "      for await (const message of channel.messages) {\n",
              "        // Send a message to notify the kernel that we're ready.\n",
              "        channel.send({})\n",
              "        if (message.buffers) {\n",
              "          for (const buffer of message.buffers) {\n",
              "            buffers.push(buffer);\n",
              "            downloaded += buffer.byteLength;\n",
              "            progress.value = downloaded;\n",
              "          }\n",
              "        }\n",
              "      }\n",
              "      const blob = new Blob(buffers, {type: 'application/binary'});\n",
              "      const a = document.createElement('a');\n",
              "      a.href = window.URL.createObjectURL(blob);\n",
              "      a.download = filename;\n",
              "      div.appendChild(a);\n",
              "      a.click();\n",
              "      div.remove();\n",
              "    }\n",
              "  "
            ]
          },
          "metadata": {}
        },
        {
          "output_type": "display_data",
          "data": {
            "text/plain": [
              "<IPython.core.display.Javascript object>"
            ],
            "application/javascript": [
              "download(\"download_a01e208d-b0de-446d-b473-355693edb4a9\", \"resnet50-CIFAR10-classifier-only-25epochs.model\", 94442810)"
            ]
          },
          "metadata": {}
        }
      ]
    },
    {
      "cell_type": "markdown",
      "source": [
        "# Creating The Ensemble"
      ],
      "metadata": {
        "id": "6-3hM6EallJh"
      }
    },
    {
      "cell_type": "code",
      "source": [
        "# The previous block contains the information about the latest leraning rate of\n",
        "# the training phase. You need to copy the learning rate of the latest epoch and\n",
        "# the rest of the code will use it to purturb the net even further.\n",
        "\n",
        "ensemble_learning_rate = 0.0001\n",
        "assert ensemble_learning_rate is not None"
      ],
      "metadata": {
        "id": "aY8QUcVXSBIi"
      },
      "execution_count": 6,
      "outputs": []
    },
    {
      "cell_type": "code",
      "source": [
        "# Following code is used for loading a model from a file\n",
        "\n",
        "filename = \"resnet50-CIFAR10-classifier-only-25epochs-lr0.0001.model\"\n",
        "file_location = f\"/content/drive/MyDrive/{filename}\"\n",
        "\n",
        "best_model    = resnet50(pretrained=False)\n",
        "best_model.fc = torch.nn.Linear(\n",
        "  best_model.fc.in_features,\n",
        "  10\n",
        ")\n",
        "best_model.load_state_dict(torch.load(file_location))\n",
        "best_model.to(device)\n",
        "\n",
        "for param in best_model.parameters():\n",
        "  param.requires_grad = True\n",
        "\n",
        "criterion = torch.nn.CrossEntropyLoss()\n",
        "optimizer = torch.optim.Adam(\n",
        "    best_model.parameters(),\n",
        "    lr=ensemble_learning_rate\n",
        ")"
      ],
      "metadata": {
        "colab": {
          "base_uri": "https://localhost:8080/"
        },
        "id": "KXWsBwFcbQp4",
        "outputId": "20124227-160c-48dc-bf38-1a1827fc46a4"
      },
      "execution_count": 10,
      "outputs": [
        {
          "output_type": "stream",
          "name": "stderr",
          "text": [
            "/usr/local/lib/python3.10/dist-packages/torchvision/models/_utils.py:208: UserWarning: The parameter 'pretrained' is deprecated since 0.13 and may be removed in the future, please use 'weights' instead.\n",
            "  warnings.warn(\n",
            "/usr/local/lib/python3.10/dist-packages/torchvision/models/_utils.py:223: UserWarning: Arguments other than a weight enum or `None` for 'weights' are deprecated since 0.13 and may be removed in the future. The current behavior is equivalent to passing `weights=None`.\n",
            "  warnings.warn(msg)\n",
            "<ipython-input-10-874215b81b28>:11: FutureWarning: You are using `torch.load` with `weights_only=False` (the current default value), which uses the default pickle module implicitly. It is possible to construct malicious pickle data which will execute arbitrary code during unpickling (See https://github.com/pytorch/pytorch/blob/main/SECURITY.md#untrusted-models for more details). In a future release, the default value for `weights_only` will be flipped to `True`. This limits the functions that could be executed during unpickling. Arbitrary objects will no longer be allowed to be loaded via this mode unless they are explicitly allowlisted by the user via `torch.serialization.add_safe_globals`. We recommend you start setting `weights_only=True` for any use case where you don't have full control of the loaded file. Please open an issue on GitHub for any issues related to this experimental feature.\n",
            "  best_model.load_state_dict(torch.load(file_location))\n"
          ]
        }
      ]
    },
    {
      "cell_type": "code",
      "source": [
        "# Batch sizes have been adapted to the Google Colab A100 GPU (High RAM)\n",
        "# they need to be modified when run on different hardware architectures\n",
        "# With CNN layers:    384\n",
        "# Without CNN layers: 2048\n",
        "\n",
        "train_dataloader = torch.utils.data.DataLoader(train_dataset, batch_size=128 * 3, shuffle=True)\n",
        "test_dataloader  = torch.utils.data.DataLoader(test_dataset, batch_size=128 * 3, shuffle=False)\n",
        "\n",
        "for epoch in range(Settings.cnn_training_epochs):\n",
        "  best_model.train()\n",
        "  training_loss = 0.0\n",
        "\n",
        "  for images, labels in train_dataloader:\n",
        "    images, labels = images.to(device), labels.to(device)\n",
        "    optimizer.zero_grad()\n",
        "    predictions = best_model(images)\n",
        "    loss = criterion(predictions, labels)\n",
        "    loss.backward()\n",
        "    optimizer.step()\n",
        "    training_loss += loss.item()\n",
        "\n",
        "  best_model.eval()\n",
        "  test_loss = 0\n",
        "  correct = 0\n",
        "\n",
        "  with torch.inference_mode():\n",
        "    for images, labels in test_dataloader:\n",
        "      images, labels = images.to(device), labels.to(device)\n",
        "      test_predictions = best_model(images)\n",
        "      batch_loss = criterion(test_predictions, labels)\n",
        "      test_loss += batch_loss.item()\n",
        "      _, test_predictions = torch.max(test_predictions, 1)\n",
        "      correct += (test_predictions == labels).float().sum()\n",
        "\n",
        "  accuracy = 100 * correct / len(test_dataset)\n",
        "  print(f\"Epoch number {epoch + 1}: loss={training_loss} test_loss={test_loss} accuracy={accuracy}.\")"
      ],
      "metadata": {
        "colab": {
          "base_uri": "https://localhost:8080/"
        },
        "id": "vnq_SYcNLFuo",
        "outputId": "f3aa2dd5-4a58-47f2-ea31-979b8e5912c1"
      },
      "execution_count": 11,
      "outputs": [
        {
          "output_type": "stream",
          "name": "stdout",
          "text": [
            "Epoch number 1: loss=26.992843873798847 test_loss=3.336669184267521 accuracy=94.38750457763672.\n",
            "Epoch number 2: loss=4.402020330540836 test_loss=3.361543171107769 accuracy=95.0250015258789.\n",
            "Epoch number 3: loss=1.6605308568105102 test_loss=3.653236046433449 accuracy=95.37500762939453.\n",
            "Epoch number 4: loss=0.7466570212855004 test_loss=3.81483793258667 accuracy=95.42500305175781.\n",
            "Epoch number 5: loss=1.6766885639517568 test_loss=4.9823242649436 accuracy=93.86250305175781.\n"
          ]
        }
      ]
    },
    {
      "cell_type": "code",
      "source": [
        "filename = \"resnet50-CIFAR10-CNN-5epochs-lr0.0001.model\"\n",
        "torch.save(best_model.state_dict(), f\"./{filename}\")\n",
        "files.download(f\"./{filename}\")"
      ],
      "metadata": {
        "colab": {
          "base_uri": "https://localhost:8080/",
          "height": 17
        },
        "id": "o34fZNiASlNg",
        "outputId": "70e10eea-45c9-49bf-95bb-426e6b91d2fb"
      },
      "execution_count": 12,
      "outputs": [
        {
          "output_type": "display_data",
          "data": {
            "text/plain": [
              "<IPython.core.display.Javascript object>"
            ],
            "application/javascript": [
              "\n",
              "    async function download(id, filename, size) {\n",
              "      if (!google.colab.kernel.accessAllowed) {\n",
              "        return;\n",
              "      }\n",
              "      const div = document.createElement('div');\n",
              "      const label = document.createElement('label');\n",
              "      label.textContent = `Downloading \"${filename}\": `;\n",
              "      div.appendChild(label);\n",
              "      const progress = document.createElement('progress');\n",
              "      progress.max = size;\n",
              "      div.appendChild(progress);\n",
              "      document.body.appendChild(div);\n",
              "\n",
              "      const buffers = [];\n",
              "      let downloaded = 0;\n",
              "\n",
              "      const channel = await google.colab.kernel.comms.open(id);\n",
              "      // Send a message to notify the kernel that we're ready.\n",
              "      channel.send({})\n",
              "\n",
              "      for await (const message of channel.messages) {\n",
              "        // Send a message to notify the kernel that we're ready.\n",
              "        channel.send({})\n",
              "        if (message.buffers) {\n",
              "          for (const buffer of message.buffers) {\n",
              "            buffers.push(buffer);\n",
              "            downloaded += buffer.byteLength;\n",
              "            progress.value = downloaded;\n",
              "          }\n",
              "        }\n",
              "      }\n",
              "      const blob = new Blob(buffers, {type: 'application/binary'});\n",
              "      const a = document.createElement('a');\n",
              "      a.href = window.URL.createObjectURL(blob);\n",
              "      a.download = filename;\n",
              "      div.appendChild(a);\n",
              "      a.click();\n",
              "      div.remove();\n",
              "    }\n",
              "  "
            ]
          },
          "metadata": {}
        },
        {
          "output_type": "display_data",
          "data": {
            "text/plain": [
              "<IPython.core.display.Javascript object>"
            ],
            "application/javascript": [
              "download(\"download_c940d34c-6afb-4f9f-b1fd-7513e062cbe1\", \"resnet50-CIFAR10-CNN-5epochs-lr0.0001.model\", 94441514)"
            ]
          },
          "metadata": {}
        }
      ]
    },
    {
      "cell_type": "code",
      "execution_count": 13,
      "metadata": {
        "colab": {
          "base_uri": "https://localhost:8080/"
        },
        "id": "nvdiEzuSUEvE",
        "outputId": "56ff45fb-fa15-4038-f17c-968177886e40"
      },
      "outputs": [
        {
          "output_type": "stream",
          "name": "stdout",
          "text": [
            "A model with test accuracy of 93.86250305175781 was added to the ensemble.\n",
            "A model with test accuracy of 94.2125015258789 was added to the ensemble.\n",
            "A model with test accuracy of 93.5250015258789 was added to the ensemble.\n",
            "A model with test accuracy of 93.31250762939453 was added to the ensemble.\n",
            "A model with test accuracy of 93.62500762939453 was added to the ensemble.\n",
            "A model with test accuracy of 93.11250305175781 was added to the ensemble.\n",
            "A model with test accuracy of 94.13750457763672 was added to the ensemble.\n",
            "A model with test accuracy of 93.93750762939453 was added to the ensemble.\n",
            "A model with test accuracy of 93.38750457763672 was added to the ensemble.\n",
            "A model with test accuracy of 93.11250305175781 was added to the ensemble.\n",
            "A model with test accuracy of 93.7750015258789 was added to the ensemble.\n",
            "A model with test accuracy of 93.80000305175781 was added to the ensemble.\n",
            "A model with test accuracy of 93.7125015258789 was added to the ensemble.\n",
            "A model with test accuracy of 93.50000762939453 was added to the ensemble.\n",
            "A model with test accuracy of 93.88750457763672 was added to the ensemble.\n",
            "A model with test accuracy of 93.87500762939453 was added to the ensemble.\n",
            "A model with test accuracy of 93.92500305175781 was added to the ensemble.\n",
            "A model with test accuracy of 93.48750305175781 was added to the ensemble.\n",
            "A model with test accuracy of 94.12500762939453 was added to the ensemble.\n",
            "A model with test accuracy of 94.13750457763672 was added to the ensemble.\n",
            "A model with test accuracy of 93.5875015258789 was added to the ensemble.\n",
            "A model with test accuracy of 93.8375015258789 was added to the ensemble.\n",
            "A model with test accuracy of 93.78750610351562 was added to the ensemble.\n",
            "A model with test accuracy of 93.28750610351562 was added to the ensemble.\n",
            "A model with test accuracy of 93.38750457763672 was added to the ensemble.\n",
            "A model with test accuracy of 94.06250762939453 was added to the ensemble.\n",
            "A model with test accuracy of 93.88750457763672 was added to the ensemble.\n",
            "A model with test accuracy of 93.55000305175781 was added to the ensemble.\n",
            "A model with test accuracy of 93.93750762939453 was added to the ensemble.\n",
            "A model with test accuracy of 93.0875015258789 was added to the ensemble.\n"
          ]
        }
      ],
      "source": [
        "models = []\n",
        "\n",
        "for _ in range(Settings.ensemble_count):\n",
        "  copied_model = deepcopy(best_model)\n",
        "\n",
        "  criterion = torch.nn.CrossEntropyLoss()\n",
        "  optimizer = torch.optim.Adam(copied_model.parameters(), lr=ensemble_learning_rate)\n",
        "\n",
        "  indices = random.sample(range(len(validation_dataset)), Settings.random_ensemble_samples)\n",
        "  batch   = torch.utils.data.Subset(validation_dataset, indices)\n",
        "  batch   = torch.utils.data.DataLoader(batch, batch_size=384, shuffle=False)\n",
        "\n",
        "  copied_model.train()\n",
        "\n",
        "  for images, labels in batch:\n",
        "    images, labels = images.to(device), labels.to(device)\n",
        "    optimizer.zero_grad()\n",
        "    predictions = copied_model(images)\n",
        "    loss = criterion(predictions, labels)\n",
        "    loss.backward()\n",
        "    optimizer.step()\n",
        "\n",
        "  copied_model.eval()\n",
        "  test_loss = 0\n",
        "  correct = 0\n",
        "  with torch.inference_mode():\n",
        "    for images, labels in test_dataloader:\n",
        "      images, labels = images.to(device), labels.to(device)\n",
        "      test_predictions = copied_model(images)\n",
        "      batch_loss = criterion(test_predictions, labels)\n",
        "      test_loss += batch_loss.item()\n",
        "      _, test_predictions = torch.max(test_predictions, 1)\n",
        "      correct += (test_predictions == labels).float().sum()\n",
        "\n",
        "  accuracy = 100 * correct / len(test_dataset)\n",
        "  models.append(copied_model)\n",
        "  print(f\"A model with test accuracy of {accuracy} was added to the ensemble.\")"
      ]
    },
    {
      "cell_type": "code",
      "source": [
        "!mkdir ensemble"
      ],
      "metadata": {
        "id": "75hpZJ_iBaib"
      },
      "execution_count": 14,
      "outputs": []
    },
    {
      "cell_type": "code",
      "source": [
        "for i, model in enumerate(models):\n",
        "  torch.save(model.state_dict(), f\"./ensemble/model-{i}.model\")"
      ],
      "metadata": {
        "id": "8EcHa68hZFFF"
      },
      "execution_count": 15,
      "outputs": []
    },
    {
      "cell_type": "code",
      "source": [
        "!zip -r ./ensemble.zip ./ensemble"
      ],
      "metadata": {
        "colab": {
          "base_uri": "https://localhost:8080/"
        },
        "id": "1jpbUeLecHby",
        "outputId": "53a54768-cc7d-407d-893f-4c42e3fa6c86"
      },
      "execution_count": 16,
      "outputs": [
        {
          "output_type": "stream",
          "name": "stdout",
          "text": [
            "  adding: ensemble/ (stored 0%)\n",
            "  adding: ensemble/model-4.model (deflated 7%)\n",
            "  adding: ensemble/model-11.model (deflated 7%)\n",
            "  adding: ensemble/model-29.model (deflated 7%)\n",
            "  adding: ensemble/model-27.model (deflated 7%)\n",
            "  adding: ensemble/model-26.model (deflated 7%)\n",
            "  adding: ensemble/model-12.model (deflated 7%)\n",
            "  adding: ensemble/model-7.model (deflated 7%)\n",
            "  adding: ensemble/model-20.model (deflated 7%)\n",
            "  adding: ensemble/model-18.model (deflated 7%)\n",
            "  adding: ensemble/model-9.model (deflated 7%)\n",
            "  adding: ensemble/model-19.model (deflated 7%)\n",
            "  adding: ensemble/model-14.model (deflated 7%)\n",
            "  adding: ensemble/model-25.model (deflated 7%)\n",
            "  adding: ensemble/model-5.model (deflated 7%)\n",
            "  adding: ensemble/model-22.model (deflated 7%)\n",
            "  adding: ensemble/model-21.model (deflated 7%)\n",
            "  adding: ensemble/model-28.model (deflated 7%)\n",
            "  adding: ensemble/model-6.model (deflated 7%)\n",
            "  adding: ensemble/model-23.model (deflated 7%)\n",
            "  adding: ensemble/model-8.model (deflated 7%)\n",
            "  adding: ensemble/model-2.model (deflated 7%)\n",
            "  adding: ensemble/model-15.model (deflated 7%)\n",
            "  adding: ensemble/model-0.model (deflated 7%)\n",
            "  adding: ensemble/model-3.model (deflated 7%)\n",
            "  adding: ensemble/model-16.model (deflated 7%)\n",
            "  adding: ensemble/model-10.model (deflated 7%)\n",
            "  adding: ensemble/model-13.model (deflated 7%)\n",
            "  adding: ensemble/model-24.model (deflated 7%)\n",
            "  adding: ensemble/model-1.model (deflated 7%)\n",
            "  adding: ensemble/model-17.model (deflated 7%)\n"
          ]
        }
      ]
    },
    {
      "cell_type": "code",
      "source": [
        "!cp ./ensemble.zip /content/drive/MyDrive"
      ],
      "metadata": {
        "id": "YuNbaEGWXaUu"
      },
      "execution_count": 17,
      "outputs": []
    }
  ],
  "metadata": {
    "colab": {
      "provenance": [],
      "machine_shape": "hm",
      "gpuType": "A100"
    },
    "kernelspec": {
      "display_name": "Python 3",
      "name": "python3"
    },
    "language_info": {
      "name": "python"
    },
    "accelerator": "GPU"
  },
  "nbformat": 4,
  "nbformat_minor": 0
}