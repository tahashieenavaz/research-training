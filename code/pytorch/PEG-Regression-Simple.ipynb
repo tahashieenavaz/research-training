{
  "nbformat": 4,
  "nbformat_minor": 0,
  "metadata": {
    "colab": {
      "provenance": []
    },
    "kernelspec": {
      "name": "python3",
      "display_name": "Python 3"
    },
    "language_info": {
      "name": "python"
    }
  },
  "cells": [
    {
      "cell_type": "code",
      "execution_count": 27,
      "metadata": {
        "id": "oJvhLbI3KcPu"
      },
      "outputs": [],
      "source": [
        "import torch\n",
        "import torch.nn as nn\n",
        "import torch.optim as optim\n",
        "import numpy as np\n",
        "import torchvision.models as models\n",
        "import matplotlib.pyplot as plt\n",
        "import random\n",
        "from copy import deepcopy\n",
        "from sklearn.model_selection import train_test_split\n",
        "from sklearn.preprocessing import MinMaxScaler\n",
        "from math import inf\n",
        "from statistics import mean"
      ]
    },
    {
      "cell_type": "code",
      "source": [
        "def f(x):\n",
        "  return 3.1 * x ** 2 + 3.7 * x\n",
        "\n",
        "def prepare_input(x, scaler):\n",
        "  return torch.tensor(\n",
        "      scaler.transform([[x]]),\n",
        "      dtype=torch.float32\n",
        "  )"
      ],
      "metadata": {
        "id": "VvkCWGukrEOm"
      },
      "execution_count": 25,
      "outputs": []
    },
    {
      "cell_type": "code",
      "source": [
        "# Preparing a dataset of a function with some random noise\n",
        "# to make as realistic as possible\n",
        "\n",
        "number_of_datapoints = 5000\n",
        "x = np.linspace(-10, 50, number_of_datapoints).reshape(-1, 1)\n",
        "y = 3.1 * np.power(x, 2) + 3.7 * x\n",
        "\n",
        "scaler = MinMaxScaler()\n",
        "scaler.fit(x)\n",
        "x = scaler.transform(x)\n",
        "\n",
        "plt.scatter(x, y)"
      ],
      "metadata": {
        "colab": {
          "base_uri": "https://localhost:8080/",
          "height": 447
        },
        "id": "_sabc1L2X2-d",
        "outputId": "7a89b721-6636-47dd-ae01-7f1a6fb14434"
      },
      "execution_count": 28,
      "outputs": [
        {
          "output_type": "execute_result",
          "data": {
            "text/plain": [
              "<matplotlib.collections.PathCollection at 0x7d7f7b4f74c0>"
            ]
          },
          "metadata": {},
          "execution_count": 28
        },
        {
          "output_type": "display_data",
          "data": {
            "text/plain": [
              "<Figure size 640x480 with 1 Axes>"
            ],
            "image/png": "[encoded data removed]"
          },
          "metadata": {}
        }
      ]
    },
    {
      "cell_type": "code",
      "source": [
        "# Splitting the data to train, test, and validation datasets\n",
        "\n",
        "x_train, x_rest, y_train, y_rest =           train_test_split(x, y, test_size=0.3)\n",
        "x_test, x_validation, y_test, y_validation = train_test_split(x_rest, y_rest, test_size=0.5)\n",
        "\n",
        "x_train      = torch.tensor(x_train, dtype=torch.float32).reshape(-1, 1)\n",
        "x_test       = torch.tensor(x_test, dtype=torch.float32).reshape(-1, 1)\n",
        "x_validation = torch.tensor(x_validation, dtype=torch.float32).reshape(-1, 1)\n",
        "y_train      = torch.tensor(y_train, dtype=torch.float32).reshape(-1, 1)\n",
        "y_test       = torch.tensor(y_test, dtype=torch.float32).reshape(-1, 1)\n",
        "y_validation = torch.tensor(y_validation, dtype=torch.float32).reshape(-1, 1)\n",
        "\n",
        "x_train.shape, x_test.shape, x_validation.shape"
      ],
      "metadata": {
        "colab": {
          "base_uri": "https://localhost:8080/"
        },
        "id": "406obR-9aWkI",
        "outputId": "d04af9c0-b691-4c1e-ece1-03b1890a135f"
      },
      "execution_count": 29,
      "outputs": [
        {
          "output_type": "execute_result",
          "data": {
            "text/plain": [
              "(torch.Size([3500, 1]), torch.Size([750, 1]), torch.Size([750, 1]))"
            ]
          },
          "metadata": {},
          "execution_count": 29
        }
      ]
    },
    {
      "cell_type": "code",
      "source": [
        "x_train[0], y_train[0]"
      ],
      "metadata": {
        "colab": {
          "base_uri": "https://localhost:8080/"
        },
        "id": "4yEITB-KE2Y_",
        "outputId": "84839735-f88e-4237-cb47-5e58024ee2d5"
      },
      "execution_count": 30,
      "outputs": [
        {
          "output_type": "execute_result",
          "data": {
            "text/plain": [
              "(tensor([0.7720]), tensor([4223.0991]))"
            ]
          },
          "metadata": {},
          "execution_count": 30
        }
      ]
    },
    {
      "cell_type": "code",
      "source": [
        "model = nn.Sequential(\n",
        "  nn.Linear(1, 64),\n",
        "  nn.ReLU(),\n",
        "\n",
        "  nn.Linear(64, 64),\n",
        "  nn.ReLU(),\n",
        "\n",
        "  nn.Linear(64, 64),\n",
        "  nn.ReLU(),\n",
        "\n",
        "  nn.Linear(64, 1),\n",
        ")"
      ],
      "metadata": {
        "id": "ZcxjjPToKfRJ"
      },
      "execution_count": 31,
      "outputs": []
    },
    {
      "cell_type": "code",
      "source": [
        "criterion = nn.MSELoss()\n",
        "optimizer = optim.Adam(model.parameters(), lr=0.001, weight_decay=1e-5)\n",
        "best_model  = None\n",
        "lowest_loss = inf\n",
        "history = []"
      ],
      "metadata": {
        "id": "pGtvngoHdHoa"
      },
      "execution_count": 32,
      "outputs": []
    },
    {
      "cell_type": "code",
      "source": [
        "for _ in range(5_000):\n",
        "  model.train()\n",
        "  optimizer.zero_grad()\n",
        "  output = model(x_train)\n",
        "  loss = criterion(output, y_train)\n",
        "  loss.backward()\n",
        "  optimizer.step()\n",
        "\n",
        "  if _ % 10 ==0:\n",
        "    print(f\"Loss on the epoch {_} is {loss}\")\n",
        "\n",
        "  model.eval()\n",
        "  output = model(x_test)\n",
        "  test_loss = criterion(y_test, output)\n",
        "  history.append(test_loss)\n",
        "\n",
        "  if test_loss.item() < lowest_loss:\n",
        "    lowest_loss = test_loss\n",
        "    best_model  = model"
      ],
      "metadata": {
        "colab": {
          "base_uri": "https://localhost:8080/"
        },
        "id": "zU653xMbco0P",
        "outputId": "5281c1f7-8af4-43fd-e680-ca4644bd40f0"
      },
      "execution_count": 33,
      "outputs": [
        {
          "output_type": "stream",
          "name": "stdout",
          "text": [
            "Loss on the epoch 0 is 10303532.0\n",
            "Loss on the epoch 10 is 10301231.0\n",
            "Loss on the epoch 20 is 10297486.0\n",
            "Loss on the epoch 30 is 10289961.0\n",
            "Loss on the epoch 40 is 10275914.0\n",
            "Loss on the epoch 50 is 10251342.0\n",
            "Loss on the epoch 60 is 10210742.0\n",
            "Loss on the epoch 70 is 10147105.0\n",
            "Loss on the epoch 80 is 10051806.0\n",
            "Loss on the epoch 90 is 9914188.0\n",
            "Loss on the epoch 100 is 9722472.0\n",
            "Loss on the epoch 110 is 9464245.0\n",
            "Loss on the epoch 120 is 9127322.0\n",
            "Loss on the epoch 130 is 8701877.0\n",
            "Loss on the epoch 140 is 8184399.5\n",
            "Loss on the epoch 150 is 7580157.5\n",
            "Loss on the epoch 160 is 6905094.5\n",
            "Loss on the epoch 170 is 6188890.0\n",
            "Loss on the epoch 180 is 5475307.5\n",
            "Loss on the epoch 190 is 4819583.0\n",
            "Loss on the epoch 200 is 4275760.0\n",
            "Loss on the epoch 210 is 3878493.0\n",
            "Loss on the epoch 220 is 3625648.5\n",
            "Loss on the epoch 230 is 3477351.75\n",
            "Loss on the epoch 240 is 3381363.25\n",
            "Loss on the epoch 250 is 3301899.75\n",
            "Loss on the epoch 260 is 3225307.75\n",
            "Loss on the epoch 270 is 3149242.75\n",
            "Loss on the epoch 280 is 3073743.75\n",
            "Loss on the epoch 290 is 2998633.0\n",
            "Loss on the epoch 300 is 2923202.25\n",
            "Loss on the epoch 310 is 2846913.75\n",
            "Loss on the epoch 320 is 2769682.75\n",
            "Loss on the epoch 330 is 2691582.25\n",
            "Loss on the epoch 340 is 2612705.75\n",
            "Loss on the epoch 350 is 2533145.5\n",
            "Loss on the epoch 360 is 2452921.75\n",
            "Loss on the epoch 370 is 2371896.0\n",
            "Loss on the epoch 380 is 2289908.25\n",
            "Loss on the epoch 390 is 2206394.25\n",
            "Loss on the epoch 400 is 2121263.75\n",
            "Loss on the epoch 410 is 2034712.0\n",
            "Loss on the epoch 420 is 1947048.875\n",
            "Loss on the epoch 430 is 1858613.5\n",
            "Loss on the epoch 440 is 1769690.875\n",
            "Loss on the epoch 450 is 1680556.75\n",
            "Loss on the epoch 460 is 1591496.375\n",
            "Loss on the epoch 470 is 1502809.25\n",
            "Loss on the epoch 480 is 1414802.0\n",
            "Loss on the epoch 490 is 1327814.625\n",
            "Loss on the epoch 500 is 1242197.625\n",
            "Loss on the epoch 510 is 1158334.75\n",
            "Loss on the epoch 520 is 1076470.5\n",
            "Loss on the epoch 530 is 996383.1875\n",
            "Loss on the epoch 540 is 918424.625\n",
            "Loss on the epoch 550 is 843192.375\n",
            "Loss on the epoch 560 is 770861.5\n",
            "Loss on the epoch 570 is 701959.3125\n",
            "Loss on the epoch 580 is 636880.5\n",
            "Loss on the epoch 590 is 574625.75\n",
            "Loss on the epoch 600 is 515114.96875\n",
            "Loss on the epoch 610 is 459093.21875\n",
            "Loss on the epoch 620 is 407044.09375\n",
            "Loss on the epoch 630 is 358838.46875\n",
            "Loss on the epoch 640 is 314630.53125\n",
            "Loss on the epoch 650 is 274893.15625\n",
            "Loss on the epoch 660 is 239875.5\n",
            "Loss on the epoch 670 is 209495.078125\n",
            "Loss on the epoch 680 is 183243.515625\n",
            "Loss on the epoch 690 is 160659.53125\n",
            "Loss on the epoch 700 is 141420.234375\n",
            "Loss on the epoch 710 is 125132.5625\n",
            "Loss on the epoch 720 is 111413.875\n",
            "Loss on the epoch 730 is 99907.9765625\n",
            "Loss on the epoch 740 is 90286.1171875\n",
            "Loss on the epoch 750 is 82237.7578125\n",
            "Loss on the epoch 760 is 75488.328125\n",
            "Loss on the epoch 770 is 69818.0234375\n",
            "Loss on the epoch 780 is 65042.11328125\n",
            "Loss on the epoch 790 is 61003.5546875\n",
            "Loss on the epoch 800 is 57566.71484375\n",
            "Loss on the epoch 810 is 54619.73828125\n",
            "Loss on the epoch 820 is 52074.7890625\n",
            "Loss on the epoch 830 is 49857.57421875\n",
            "Loss on the epoch 840 is 47906.09375\n",
            "Loss on the epoch 850 is 46163.9375\n",
            "Loss on the epoch 860 is 44589.34765625\n",
            "Loss on the epoch 870 is 43142.15625\n",
            "Loss on the epoch 880 is 41792.63671875\n",
            "Loss on the epoch 890 is 40513.7265625\n",
            "Loss on the epoch 900 is 39287.2421875\n",
            "Loss on the epoch 910 is 38094.5703125\n",
            "Loss on the epoch 920 is 36923.68359375\n",
            "Loss on the epoch 930 is 35766.8671875\n",
            "Loss on the epoch 940 is 34625.421875\n",
            "Loss on the epoch 950 is 33490.359375\n",
            "Loss on the epoch 960 is 32364.107421875\n",
            "Loss on the epoch 970 is 31246.841796875\n",
            "Loss on the epoch 980 is 30138.22265625\n",
            "Loss on the epoch 990 is 29040.14453125\n",
            "Loss on the epoch 1000 is 27953.984375\n",
            "Loss on the epoch 1010 is 26885.326171875\n",
            "Loss on the epoch 1020 is 25840.6171875\n",
            "Loss on the epoch 1030 is 24818.20703125\n",
            "Loss on the epoch 1040 is 23820.689453125\n",
            "Loss on the epoch 1050 is 22851.4765625\n",
            "Loss on the epoch 1060 is 21912.748046875\n",
            "Loss on the epoch 1070 is 21005.91015625\n",
            "Loss on the epoch 1080 is 20132.072265625\n",
            "Loss on the epoch 1090 is 19292.337890625\n",
            "Loss on the epoch 1100 is 18486.857421875\n",
            "Loss on the epoch 1110 is 17715.6015625\n",
            "Loss on the epoch 1120 is 16978.404296875\n",
            "Loss on the epoch 1130 is 16274.81640625\n",
            "Loss on the epoch 1140 is 15603.708984375\n",
            "Loss on the epoch 1150 is 14964.8388671875\n",
            "Loss on the epoch 1160 is 14356.931640625\n",
            "Loss on the epoch 1170 is 13778.923828125\n",
            "Loss on the epoch 1180 is 13229.884765625\n",
            "Loss on the epoch 1190 is 12708.484375\n",
            "Loss on the epoch 1200 is 12213.3349609375\n",
            "Loss on the epoch 1210 is 11743.3486328125\n",
            "Loss on the epoch 1220 is 11297.7060546875\n",
            "Loss on the epoch 1230 is 10875.0390625\n",
            "Loss on the epoch 1240 is 10473.9130859375\n",
            "Loss on the epoch 1250 is 10093.35546875\n",
            "Loss on the epoch 1260 is 9732.27734375\n",
            "Loss on the epoch 1270 is 9389.7158203125\n",
            "Loss on the epoch 1280 is 9064.52734375\n",
            "Loss on the epoch 1290 is 8755.7626953125\n",
            "Loss on the epoch 1300 is 8462.7236328125\n",
            "Loss on the epoch 1310 is 8184.25830078125\n",
            "Loss on the epoch 1320 is 7919.51953125\n",
            "Loss on the epoch 1330 is 7667.6572265625\n",
            "Loss on the epoch 1340 is 7428.17724609375\n",
            "Loss on the epoch 1350 is 7200.6162109375\n",
            "Loss on the epoch 1360 is 6984.1337890625\n",
            "Loss on the epoch 1370 is 6778.2177734375\n",
            "Loss on the epoch 1380 is 6582.32763671875\n",
            "Loss on the epoch 1390 is 6395.90966796875\n",
            "Loss on the epoch 1400 is 6218.4912109375\n",
            "Loss on the epoch 1410 is 6049.54150390625\n",
            "Loss on the epoch 1420 is 5888.6650390625\n",
            "Loss on the epoch 1430 is 5735.21142578125\n",
            "Loss on the epoch 1440 is 5588.84521484375\n",
            "Loss on the epoch 1450 is 5449.22900390625\n",
            "Loss on the epoch 1460 is 5316.0625\n",
            "Loss on the epoch 1470 is 5188.98046875\n",
            "Loss on the epoch 1480 is 5067.4794921875\n",
            "Loss on the epoch 1490 is 4951.31982421875\n",
            "Loss on the epoch 1500 is 4840.3701171875\n",
            "Loss on the epoch 1510 is 4734.22705078125\n",
            "Loss on the epoch 1520 is 4632.5986328125\n",
            "Loss on the epoch 1530 is 4535.31494140625\n",
            "Loss on the epoch 1540 is 4442.130859375\n",
            "Loss on the epoch 1550 is 4352.82275390625\n",
            "Loss on the epoch 1560 is 4267.1416015625\n",
            "Loss on the epoch 1570 is 4184.92822265625\n",
            "Loss on the epoch 1580 is 4106.005859375\n",
            "Loss on the epoch 1590 is 4030.196533203125\n",
            "Loss on the epoch 1600 is 3957.32373046875\n",
            "Loss on the epoch 1610 is 3887.21923828125\n",
            "Loss on the epoch 1620 is 3819.7607421875\n",
            "Loss on the epoch 1630 is 3754.802001953125\n",
            "Loss on the epoch 1640 is 3692.215087890625\n",
            "Loss on the epoch 1650 is 3631.892578125\n",
            "Loss on the epoch 1660 is 3573.749755859375\n",
            "Loss on the epoch 1670 is 3517.689453125\n",
            "Loss on the epoch 1680 is 3463.5634765625\n",
            "Loss on the epoch 1690 is 3411.349609375\n",
            "Loss on the epoch 1700 is 3360.92578125\n",
            "Loss on the epoch 1710 is 3312.1796875\n",
            "Loss on the epoch 1720 is 3265.064453125\n",
            "Loss on the epoch 1730 is 3219.501953125\n",
            "Loss on the epoch 1740 is 3175.373779296875\n",
            "Loss on the epoch 1750 is 3132.609619140625\n",
            "Loss on the epoch 1760 is 3091.1708984375\n",
            "Loss on the epoch 1770 is 3051.0\n",
            "Loss on the epoch 1780 is 3012.02392578125\n",
            "Loss on the epoch 1790 is 2974.209716796875\n",
            "Loss on the epoch 1800 is 2937.5009765625\n",
            "Loss on the epoch 1810 is 2901.81103515625\n",
            "Loss on the epoch 1820 is 2867.125244140625\n",
            "Loss on the epoch 1830 is 2833.393798828125\n",
            "Loss on the epoch 1840 is 2800.562255859375\n",
            "Loss on the epoch 1850 is 2768.569091796875\n",
            "Loss on the epoch 1860 is 2737.377197265625\n",
            "Loss on the epoch 1870 is 2706.953125\n",
            "Loss on the epoch 1880 is 2677.24658203125\n",
            "Loss on the epoch 1890 is 2648.236572265625\n",
            "Loss on the epoch 1900 is 2619.88916015625\n",
            "Loss on the epoch 1910 is 2592.148193359375\n",
            "Loss on the epoch 1920 is 2565.0166015625\n",
            "Loss on the epoch 1930 is 2538.443115234375\n",
            "Loss on the epoch 1940 is 2512.41943359375\n",
            "Loss on the epoch 1950 is 2486.941650390625\n",
            "Loss on the epoch 1960 is 2462.00634765625\n",
            "Loss on the epoch 1970 is 2437.5556640625\n",
            "Loss on the epoch 1980 is 2413.58056640625\n",
            "Loss on the epoch 1990 is 2390.07666015625\n",
            "Loss on the epoch 2000 is 2367.015380859375\n",
            "Loss on the epoch 2010 is 2344.36865234375\n",
            "Loss on the epoch 2020 is 2322.10888671875\n",
            "Loss on the epoch 2030 is 2300.22412109375\n",
            "Loss on the epoch 2040 is 2278.6806640625\n",
            "Loss on the epoch 2050 is 2257.47607421875\n",
            "Loss on the epoch 2060 is 2236.580322265625\n",
            "Loss on the epoch 2070 is 2215.982177734375\n",
            "Loss on the epoch 2080 is 2195.68017578125\n",
            "Loss on the epoch 2090 is 2175.6591796875\n",
            "Loss on the epoch 2100 is 2155.88525390625\n",
            "Loss on the epoch 2110 is 2136.34619140625\n",
            "Loss on the epoch 2120 is 2117.031005859375\n",
            "Loss on the epoch 2130 is 2097.93359375\n",
            "Loss on the epoch 2140 is 2079.034912109375\n",
            "Loss on the epoch 2150 is 2060.343505859375\n",
            "Loss on the epoch 2160 is 2041.848876953125\n",
            "Loss on the epoch 2170 is 2023.53515625\n",
            "Loss on the epoch 2180 is 2005.39111328125\n",
            "Loss on the epoch 2190 is 1987.4122314453125\n",
            "Loss on the epoch 2200 is 1969.601806640625\n",
            "Loss on the epoch 2210 is 1951.9447021484375\n",
            "Loss on the epoch 2220 is 1934.4298095703125\n",
            "Loss on the epoch 2230 is 1917.0576171875\n",
            "Loss on the epoch 2240 is 1899.8271484375\n",
            "Loss on the epoch 2250 is 1882.7354736328125\n",
            "Loss on the epoch 2260 is 1865.775390625\n",
            "Loss on the epoch 2270 is 1848.9468994140625\n",
            "Loss on the epoch 2280 is 1832.2291259765625\n",
            "Loss on the epoch 2290 is 1815.6192626953125\n",
            "Loss on the epoch 2300 is 1799.11083984375\n",
            "Loss on the epoch 2310 is 1782.7056884765625\n",
            "Loss on the epoch 2320 is 1766.400390625\n",
            "Loss on the epoch 2330 is 1750.1922607421875\n",
            "Loss on the epoch 2340 is 1734.0789794921875\n",
            "Loss on the epoch 2350 is 1718.052001953125\n",
            "Loss on the epoch 2360 is 1702.107421875\n",
            "Loss on the epoch 2370 is 1686.244873046875\n",
            "Loss on the epoch 2380 is 1670.4720458984375\n",
            "Loss on the epoch 2390 is 1654.7822265625\n",
            "Loss on the epoch 2400 is 1639.171142578125\n",
            "Loss on the epoch 2410 is 1623.63818359375\n",
            "Loss on the epoch 2420 is 1608.183837890625\n",
            "Loss on the epoch 2430 is 1592.81689453125\n",
            "Loss on the epoch 2440 is 1577.53173828125\n",
            "Loss on the epoch 2450 is 1562.3236083984375\n",
            "Loss on the epoch 2460 is 1547.187255859375\n",
            "Loss on the epoch 2470 is 1532.1224365234375\n",
            "Loss on the epoch 2480 is 1517.122314453125\n",
            "Loss on the epoch 2490 is 1502.192138671875\n",
            "Loss on the epoch 2500 is 1487.3355712890625\n",
            "Loss on the epoch 2510 is 1472.5631103515625\n",
            "Loss on the epoch 2520 is 1457.8658447265625\n",
            "Loss on the epoch 2530 is 1443.244873046875\n",
            "Loss on the epoch 2540 is 1428.68798828125\n",
            "Loss on the epoch 2550 is 1414.197998046875\n",
            "Loss on the epoch 2560 is 1399.78076171875\n",
            "Loss on the epoch 2570 is 1385.4320068359375\n",
            "Loss on the epoch 2580 is 1371.163818359375\n",
            "Loss on the epoch 2590 is 1356.961669921875\n",
            "Loss on the epoch 2600 is 1342.828125\n",
            "Loss on the epoch 2610 is 1328.771484375\n",
            "Loss on the epoch 2620 is 1314.7921142578125\n",
            "Loss on the epoch 2630 is 1300.88916015625\n",
            "Loss on the epoch 2640 is 1287.0782470703125\n",
            "Loss on the epoch 2650 is 1273.366943359375\n",
            "Loss on the epoch 2660 is 1259.7393798828125\n",
            "Loss on the epoch 2670 is 1246.1966552734375\n",
            "Loss on the epoch 2680 is 1232.71337890625\n",
            "Loss on the epoch 2690 is 1219.105712890625\n",
            "Loss on the epoch 2700 is 1201.7733154296875\n",
            "Loss on the epoch 2710 is 1178.564697265625\n",
            "Loss on the epoch 2720 is 1150.51025390625\n",
            "Loss on the epoch 2730 is 1119.41748046875\n",
            "Loss on the epoch 2740 is 1086.985107421875\n",
            "Loss on the epoch 2750 is 1054.1636962890625\n",
            "Loss on the epoch 2760 is 1021.1968383789062\n",
            "Loss on the epoch 2770 is 987.8340454101562\n",
            "Loss on the epoch 2780 is 954.2582397460938\n",
            "Loss on the epoch 2790 is 920.8004760742188\n",
            "Loss on the epoch 2800 is 887.7872924804688\n",
            "Loss on the epoch 2810 is 855.5670776367188\n",
            "Loss on the epoch 2820 is 824.540283203125\n",
            "Loss on the epoch 2830 is 794.810546875\n",
            "Loss on the epoch 2840 is 766.3196411132812\n",
            "Loss on the epoch 2850 is 739.1962280273438\n",
            "Loss on the epoch 2860 is 713.4187622070312\n",
            "Loss on the epoch 2870 is 689.1137084960938\n",
            "Loss on the epoch 2880 is 666.2587890625\n",
            "Loss on the epoch 2890 is 644.8778076171875\n",
            "Loss on the epoch 2900 is 624.9715576171875\n",
            "Loss on the epoch 2910 is 606.344970703125\n",
            "Loss on the epoch 2920 is 588.7950439453125\n",
            "Loss on the epoch 2930 is 571.6325073242188\n",
            "Loss on the epoch 2940 is 553.852294921875\n",
            "Loss on the epoch 2950 is 536.0198364257812\n",
            "Loss on the epoch 2960 is 518.9982299804688\n",
            "Loss on the epoch 2970 is 501.95587158203125\n",
            "Loss on the epoch 2980 is 484.6117248535156\n",
            "Loss on the epoch 2990 is 466.98785400390625\n",
            "Loss on the epoch 3000 is 449.2355041503906\n",
            "Loss on the epoch 3010 is 431.446044921875\n",
            "Loss on the epoch 3020 is 413.7940979003906\n",
            "Loss on the epoch 3030 is 396.393798828125\n",
            "Loss on the epoch 3040 is 379.3410949707031\n",
            "Loss on the epoch 3050 is 362.8009338378906\n",
            "Loss on the epoch 3060 is 346.8833312988281\n",
            "Loss on the epoch 3070 is 331.6619567871094\n",
            "Loss on the epoch 3080 is 317.14141845703125\n",
            "Loss on the epoch 3090 is 303.4767761230469\n",
            "Loss on the epoch 3100 is 290.7032470703125\n",
            "Loss on the epoch 3110 is 278.7444152832031\n",
            "Loss on the epoch 3120 is 267.4869384765625\n",
            "Loss on the epoch 3130 is 256.77410888671875\n",
            "Loss on the epoch 3140 is 246.55218505859375\n",
            "Loss on the epoch 3150 is 237.0958709716797\n",
            "Loss on the epoch 3160 is 227.83462524414062\n",
            "Loss on the epoch 3170 is 219.34197998046875\n",
            "Loss on the epoch 3180 is 211.15362548828125\n",
            "Loss on the epoch 3190 is 203.30482482910156\n",
            "Loss on the epoch 3200 is 195.73587036132812\n",
            "Loss on the epoch 3210 is 188.42825317382812\n",
            "Loss on the epoch 3220 is 181.3446044921875\n",
            "Loss on the epoch 3230 is 174.4868621826172\n",
            "Loss on the epoch 3240 is 167.84344482421875\n",
            "Loss on the epoch 3250 is 161.40237426757812\n",
            "Loss on the epoch 3260 is 155.48826599121094\n",
            "Loss on the epoch 3270 is 149.4283905029297\n",
            "Loss on the epoch 3280 is 143.73541259765625\n",
            "Loss on the epoch 3290 is 138.21969604492188\n",
            "Loss on the epoch 3300 is 132.77040100097656\n",
            "Loss on the epoch 3310 is 127.64885711669922\n",
            "Loss on the epoch 3320 is 122.78107452392578\n",
            "Loss on the epoch 3330 is 118.19209289550781\n",
            "Loss on the epoch 3340 is 113.79740142822266\n",
            "Loss on the epoch 3350 is 109.57980346679688\n",
            "Loss on the epoch 3360 is 105.78436279296875\n",
            "Loss on the epoch 3370 is 101.88601684570312\n",
            "Loss on the epoch 3380 is 98.40530395507812\n",
            "Loss on the epoch 3390 is 95.0384750366211\n",
            "Loss on the epoch 3400 is 91.84037780761719\n",
            "Loss on the epoch 3410 is 88.77625274658203\n",
            "Loss on the epoch 3420 is 85.86538696289062\n",
            "Loss on the epoch 3430 is 82.96692657470703\n",
            "Loss on the epoch 3440 is 80.31914520263672\n",
            "Loss on the epoch 3450 is 77.6559829711914\n",
            "Loss on the epoch 3460 is 75.20868682861328\n",
            "Loss on the epoch 3470 is 72.73709106445312\n",
            "Loss on the epoch 3480 is 70.44152069091797\n",
            "Loss on the epoch 3490 is 68.14695739746094\n",
            "Loss on the epoch 3500 is 65.98429107666016\n",
            "Loss on the epoch 3510 is 63.987125396728516\n",
            "Loss on the epoch 3520 is 62.08892059326172\n",
            "Loss on the epoch 3530 is 60.21168899536133\n",
            "Loss on the epoch 3540 is 58.504329681396484\n",
            "Loss on the epoch 3550 is 56.882266998291016\n",
            "Loss on the epoch 3560 is 55.32915496826172\n",
            "Loss on the epoch 3570 is 53.835304260253906\n",
            "Loss on the epoch 3580 is 52.394771575927734\n",
            "Loss on the epoch 3590 is 51.00152587890625\n",
            "Loss on the epoch 3600 is 49.68901824951172\n",
            "Loss on the epoch 3610 is 48.43547058105469\n",
            "Loss on the epoch 3620 is 47.2138786315918\n",
            "Loss on the epoch 3630 is 46.02204513549805\n",
            "Loss on the epoch 3640 is 44.91652297973633\n",
            "Loss on the epoch 3650 is 43.86566162109375\n",
            "Loss on the epoch 3660 is 42.85615158081055\n",
            "Loss on the epoch 3670 is 41.88488006591797\n",
            "Loss on the epoch 3680 is 40.95173645019531\n",
            "Loss on the epoch 3690 is 40.0428581237793\n",
            "Loss on the epoch 3700 is 39.187992095947266\n",
            "Loss on the epoch 3710 is 38.45380783081055\n",
            "Loss on the epoch 3720 is 37.578590393066406\n",
            "Loss on the epoch 3730 is 36.82309341430664\n",
            "Loss on the epoch 3740 is 36.06470489501953\n",
            "Loss on the epoch 3750 is 35.35799026489258\n",
            "Loss on the epoch 3760 is 34.67166519165039\n",
            "Loss on the epoch 3770 is 34.008689880371094\n",
            "Loss on the epoch 3780 is 33.365516662597656\n",
            "Loss on the epoch 3790 is 32.74160385131836\n",
            "Loss on the epoch 3800 is 32.139991760253906\n",
            "Loss on the epoch 3810 is 31.634544372558594\n",
            "Loss on the epoch 3820 is 31.00320816040039\n",
            "Loss on the epoch 3830 is 30.5063533782959\n",
            "Loss on the epoch 3840 is 29.97880744934082\n",
            "Loss on the epoch 3850 is 29.459257125854492\n",
            "Loss on the epoch 3860 is 28.974308013916016\n",
            "Loss on the epoch 3870 is 28.505422592163086\n",
            "Loss on the epoch 3880 is 28.049962997436523\n",
            "Loss on the epoch 3890 is 27.60704231262207\n",
            "Loss on the epoch 3900 is 27.175399780273438\n",
            "Loss on the epoch 3910 is 26.7746524810791\n",
            "Loss on the epoch 3920 is 26.593177795410156\n",
            "Loss on the epoch 3930 is 26.015850067138672\n",
            "Loss on the epoch 3940 is 25.57582664489746\n",
            "Loss on the epoch 3950 is 25.19867706298828\n",
            "Loss on the epoch 3960 is 24.834495544433594\n",
            "Loss on the epoch 3970 is 24.47955322265625\n",
            "Loss on the epoch 3980 is 24.12809181213379\n",
            "Loss on the epoch 3990 is 23.7801570892334\n",
            "Loss on the epoch 4000 is 23.443029403686523\n",
            "Loss on the epoch 4010 is 23.128700256347656\n",
            "Loss on the epoch 4020 is 23.094209671020508\n",
            "Loss on the epoch 4030 is 22.591773986816406\n",
            "Loss on the epoch 4040 is 22.19688606262207\n",
            "Loss on the epoch 4050 is 21.886808395385742\n",
            "Loss on the epoch 4060 is 21.599809646606445\n",
            "Loss on the epoch 4070 is 21.31887435913086\n",
            "Loss on the epoch 4080 is 21.045852661132812\n",
            "Loss on the epoch 4090 is 20.780065536499023\n",
            "Loss on the epoch 4100 is 20.520292282104492\n",
            "Loss on the epoch 4110 is 20.272449493408203\n",
            "Loss on the epoch 4120 is 20.14809799194336\n",
            "Loss on the epoch 4130 is 19.779895782470703\n",
            "Loss on the epoch 4140 is 19.549846649169922\n",
            "Loss on the epoch 4150 is 19.321252822875977\n",
            "Loss on the epoch 4160 is 19.096908569335938\n",
            "Loss on the epoch 4170 is 18.881160736083984\n",
            "Loss on the epoch 4180 is 18.665985107421875\n",
            "Loss on the epoch 4190 is 18.456811904907227\n",
            "Loss on the epoch 4200 is 18.25530433654785\n",
            "Loss on the epoch 4210 is 18.158220291137695\n",
            "Loss on the epoch 4220 is 17.85336685180664\n",
            "Loss on the epoch 4230 is 17.65899085998535\n",
            "Loss on the epoch 4240 is 17.471290588378906\n",
            "Loss on the epoch 4250 is 17.28614044189453\n",
            "Loss on the epoch 4260 is 17.09857940673828\n",
            "Loss on the epoch 4270 is 16.926551818847656\n",
            "Loss on the epoch 4280 is 16.762834548950195\n",
            "Loss on the epoch 4290 is 16.652341842651367\n",
            "Loss on the epoch 4300 is 16.46179962158203\n",
            "Loss on the epoch 4310 is 16.284589767456055\n",
            "Loss on the epoch 4320 is 16.094898223876953\n",
            "Loss on the epoch 4330 is 15.951275825500488\n",
            "Loss on the epoch 4340 is 15.804247856140137\n",
            "Loss on the epoch 4350 is 15.68424129486084\n",
            "Loss on the epoch 4360 is 15.543061256408691\n",
            "Loss on the epoch 4370 is 15.338403701782227\n",
            "Loss on the epoch 4380 is 15.209274291992188\n",
            "Loss on the epoch 4390 is 15.072613716125488\n",
            "Loss on the epoch 4400 is 14.926023483276367\n",
            "Loss on the epoch 4410 is 14.766162872314453\n",
            "Loss on the epoch 4420 is 14.622831344604492\n",
            "Loss on the epoch 4430 is 14.55212688446045\n",
            "Loss on the epoch 4440 is 14.367192268371582\n",
            "Loss on the epoch 4450 is 14.212207794189453\n",
            "Loss on the epoch 4460 is 14.073542594909668\n",
            "Loss on the epoch 4470 is 13.937006950378418\n",
            "Loss on the epoch 4480 is 13.79748249053955\n",
            "Loss on the epoch 4490 is 13.668512344360352\n",
            "Loss on the epoch 4500 is 13.542869567871094\n",
            "Loss on the epoch 4510 is 13.463513374328613\n",
            "Loss on the epoch 4520 is 13.429142951965332\n",
            "Loss on the epoch 4530 is 13.219914436340332\n",
            "Loss on the epoch 4540 is 13.055617332458496\n",
            "Loss on the epoch 4550 is 12.934228897094727\n",
            "Loss on the epoch 4560 is 12.820457458496094\n",
            "Loss on the epoch 4570 is 12.708308219909668\n",
            "Loss on the epoch 4580 is 12.61656665802002\n",
            "Loss on the epoch 4590 is 12.644678115844727\n",
            "Loss on the epoch 4600 is 12.379607200622559\n",
            "Loss on the epoch 4610 is 12.285447120666504\n",
            "Loss on the epoch 4620 is 12.186705589294434\n",
            "Loss on the epoch 4630 is 12.076681137084961\n",
            "Loss on the epoch 4640 is 11.983088493347168\n",
            "Loss on the epoch 4650 is 11.922393798828125\n",
            "Loss on the epoch 4660 is 12.003000259399414\n",
            "Loss on the epoch 4670 is 11.74537467956543\n",
            "Loss on the epoch 4680 is 11.626070022583008\n",
            "Loss on the epoch 4690 is 11.54855728149414\n",
            "Loss on the epoch 4700 is 11.467965126037598\n",
            "Loss on the epoch 4710 is 11.38891887664795\n",
            "Loss on the epoch 4720 is 11.312236785888672\n",
            "Loss on the epoch 4730 is 11.27940845489502\n",
            "Loss on the epoch 4740 is 11.3657808303833\n",
            "Loss on the epoch 4750 is 11.144185066223145\n",
            "Loss on the epoch 4760 is 11.02650260925293\n",
            "Loss on the epoch 4770 is 10.950000762939453\n",
            "Loss on the epoch 4780 is 10.887618064880371\n",
            "Loss on the epoch 4790 is 10.815132141113281\n",
            "Loss on the epoch 4800 is 10.747818946838379\n",
            "Loss on the epoch 4810 is 10.681638717651367\n",
            "Loss on the epoch 4820 is 10.61705493927002\n",
            "Loss on the epoch 4830 is 10.581466674804688\n",
            "Loss on the epoch 4840 is 11.27083683013916\n",
            "Loss on the epoch 4850 is 10.443646430969238\n",
            "Loss on the epoch 4860 is 10.412430763244629\n",
            "Loss on the epoch 4870 is 10.340513229370117\n",
            "Loss on the epoch 4880 is 10.251388549804688\n",
            "Loss on the epoch 4890 is 10.198522567749023\n",
            "Loss on the epoch 4900 is 10.139486312866211\n",
            "Loss on the epoch 4910 is 10.085858345031738\n",
            "Loss on the epoch 4920 is 10.032258033752441\n",
            "Loss on the epoch 4930 is 9.979231834411621\n",
            "Loss on the epoch 4940 is 9.92700481414795\n",
            "Loss on the epoch 4950 is 9.875889778137207\n",
            "Loss on the epoch 4960 is 9.824972152709961\n",
            "Loss on the epoch 4970 is 9.774439811706543\n",
            "Loss on the epoch 4980 is 9.724899291992188\n",
            "Loss on the epoch 4990 is 9.675460815429688\n"
          ]
        }
      ]
    },
    {
      "cell_type": "code",
      "source": [
        "lowest_loss"
      ],
      "metadata": {
        "colab": {
          "base_uri": "https://localhost:8080/"
        },
        "id": "GKRkLANwgKpW",
        "outputId": "3e45f935-e526-4ccd-b871-18f9b8e387b8"
      },
      "execution_count": 34,
      "outputs": [
        {
          "output_type": "execute_result",
          "data": {
            "text/plain": [
              "tensor(11.2360, grad_fn=<MseLossBackward0>)"
            ]
          },
          "metadata": {},
          "execution_count": 34
        }
      ]
    },
    {
      "cell_type": "code",
      "source": [
        "plt.plot([item.item() for item in history])"
      ],
      "metadata": {
        "colab": {
          "base_uri": "https://localhost:8080/",
          "height": 462
        },
        "id": "E5H3C8shCtS6",
        "outputId": "a56c65a8-35e3-4b1c-ebb2-d15449b3f7e2"
      },
      "execution_count": 35,
      "outputs": [
        {
          "output_type": "execute_result",
          "data": {
            "text/plain": [
              "[<matplotlib.lines.Line2D at 0x7d7f7c2adcf0>]"
            ]
          },
          "metadata": {},
          "execution_count": 35
        },
        {
          "output_type": "display_data",
          "data": {
            "text/plain": [
              "<Figure size 640x480 with 1 Axes>"
            ],
            "image/png": "[encoded data removed]"
          },
          "metadata": {}
        }
      ]
    },
    {
      "cell_type": "code",
      "source": [
        "with torch.inference_mode():\n",
        "  print(best_model(prepare_input(12.3, scaler)), f(12.3))"
      ],
      "metadata": {
        "colab": {
          "base_uri": "https://localhost:8080/"
        },
        "id": "qHyNtrmdrBbu",
        "outputId": "16fc1b47-24af-445e-c824-20f7d3c059d2"
      },
      "execution_count": 36,
      "outputs": [
        {
          "output_type": "stream",
          "name": "stdout",
          "text": [
            "tensor([[514.1875]]) 514.5090000000001\n"
          ]
        }
      ]
    },
    {
      "cell_type": "markdown",
      "source": [
        "# Creating Ensembles"
      ],
      "metadata": {
        "id": "T4kjyJj0rWES"
      }
    },
    {
      "cell_type": "code",
      "source": [
        "ensemble_count = 30\n",
        "batch_size = 750 // 5"
      ],
      "metadata": {
        "colab": {
          "base_uri": "https://localhost:8080/"
        },
        "id": "G_VMzJ-evT3v",
        "outputId": "bbd6a29a-f023-45c3-870c-46af628ed4d3"
      },
      "execution_count": 38,
      "outputs": [
        {
          "output_type": "execute_result",
          "data": {
            "text/plain": [
              "750"
            ]
          },
          "metadata": {},
          "execution_count": 38
        }
      ]
    },
    {
      "cell_type": "code",
      "source": [
        "# Initialize a variable for storing different to-be-created models\n",
        "\n",
        "models = []\n",
        "\n",
        "for _ in range(ensemble_count):\n",
        "  indices = random.sample(range(len(x_validation)), batch_size)\n",
        "  x_batch = x_validation[indices]\n",
        "  y_batch = y_validation[indices]\n",
        "\n",
        "  copied_model = deepcopy(best_model)\n",
        "\n",
        "  optimizer = optim.Adam(copied_model.parameters(), lr=0.0001)\n",
        "  copied_model.train()\n",
        "\n",
        "  optimizer.zero_grad()\n",
        "  output = copied_model(x_batch)\n",
        "  loss = criterion(output, y_batch)\n",
        "  loss.backward()\n",
        "  optimizer.step()\n",
        "\n",
        "  print(loss)\n",
        "\n",
        "  models.append(copied_model)"
      ],
      "metadata": {
        "colab": {
          "base_uri": "https://localhost:8080/"
        },
        "id": "0p8RjK21wPwd",
        "outputId": "a3760835-505b-4238-f3ff-4d3c17a9ec5c"
      },
      "execution_count": 39,
      "outputs": [
        {
          "output_type": "stream",
          "name": "stdout",
          "text": [
            "tensor(10.2215, grad_fn=<MseLossBackward0>)\n",
            "tensor(6.2419, grad_fn=<MseLossBackward0>)\n",
            "tensor(13.9851, grad_fn=<MseLossBackward0>)\n",
            "tensor(10.1122, grad_fn=<MseLossBackward0>)\n",
            "tensor(8.9949, grad_fn=<MseLossBackward0>)\n",
            "tensor(10.5420, grad_fn=<MseLossBackward0>)\n",
            "tensor(11.9007, grad_fn=<MseLossBackward0>)\n",
            "tensor(8.3237, grad_fn=<MseLossBackward0>)\n",
            "tensor(9.8730, grad_fn=<MseLossBackward0>)\n",
            "tensor(8.1466, grad_fn=<MseLossBackward0>)\n",
            "tensor(15.5530, grad_fn=<MseLossBackward0>)\n",
            "tensor(7.2100, grad_fn=<MseLossBackward0>)\n",
            "tensor(7.3032, grad_fn=<MseLossBackward0>)\n",
            "tensor(9.6596, grad_fn=<MseLossBackward0>)\n",
            "tensor(10.4731, grad_fn=<MseLossBackward0>)\n",
            "tensor(10.1521, grad_fn=<MseLossBackward0>)\n",
            "tensor(10.6997, grad_fn=<MseLossBackward0>)\n",
            "tensor(16.5951, grad_fn=<MseLossBackward0>)\n",
            "tensor(8.2613, grad_fn=<MseLossBackward0>)\n",
            "tensor(10.4121, grad_fn=<MseLossBackward0>)\n",
            "tensor(7.6450, grad_fn=<MseLossBackward0>)\n",
            "tensor(10.4698, grad_fn=<MseLossBackward0>)\n",
            "tensor(8.9793, grad_fn=<MseLossBackward0>)\n",
            "tensor(15.8164, grad_fn=<MseLossBackward0>)\n",
            "tensor(9.5032, grad_fn=<MseLossBackward0>)\n",
            "tensor(3.7717, grad_fn=<MseLossBackward0>)\n",
            "tensor(12.1619, grad_fn=<MseLossBackward0>)\n",
            "tensor(10.1304, grad_fn=<MseLossBackward0>)\n",
            "tensor(7.5393, grad_fn=<MseLossBackward0>)\n",
            "tensor(9.6912, grad_fn=<MseLossBackward0>)\n"
          ]
        }
      ]
    },
    {
      "cell_type": "code",
      "source": [
        "def infer(models, ix):\n",
        "  predictions = []\n",
        "  with torch.inference_mode():\n",
        "    for model in models:\n",
        "      predictions.append(model(prepare_input(ix, scaler)).item())\n",
        "  return mean(predictions)"
      ],
      "metadata": {
        "id": "OWkZvytvyKQj"
      },
      "execution_count": 41,
      "outputs": []
    },
    {
      "cell_type": "code",
      "source": [
        "test_input = 20\n",
        "truth = f(test_input)\n",
        "\n",
        "ensemble_prediction = infer(models, test_input)\n",
        "best_model_prediction = best_model(prepare_input(test_input, scaler))\n",
        "\n",
        "ensemble_loss   = (ensemble_prediction - truth) ** 2\n",
        "best_model_loss = (best_model_prediction - truth) ** 2\n",
        "\n",
        "improvement = best_model_loss - ensemble_loss\n",
        "\n",
        "improvement"
      ],
      "metadata": {
        "colab": {
          "base_uri": "https://localhost:8080/"
        },
        "id": "HBgbW7lHyXcq",
        "outputId": "f93d0823-cca0-4cc1-cbeb-456e2686ddaa"
      },
      "execution_count": 44,
      "outputs": [
        {
          "output_type": "execute_result",
          "data": {
            "text/plain": [
              "tensor([[0.0540]], grad_fn=<SubBackward0>)"
            ]
          },
          "metadata": {},
          "execution_count": 44
        }
      ]
    }
  ]
}